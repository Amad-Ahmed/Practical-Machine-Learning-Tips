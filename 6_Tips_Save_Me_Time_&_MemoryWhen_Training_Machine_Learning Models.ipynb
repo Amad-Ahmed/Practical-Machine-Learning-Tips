{
  "nbformat": 4,
  "nbformat_minor": 0,
  "metadata": {
    "colab": {
      "provenance": [],
      "authorship_tag": "ABX9TyPbkC6qjTSxqKLd4jGgfu2l",
      "include_colab_link": true
    },
    "kernelspec": {
      "name": "python3",
      "display_name": "Python 3"
    },
    "language_info": {
      "name": "python"
    }
  },
  "cells": [
    {
      "cell_type": "markdown",
      "metadata": {
        "id": "view-in-github",
        "colab_type": "text"
      },
      "source": [
        "<a href=\"https://colab.research.google.com/github/youssefHosni/Practical-Machine-Learning-Tips/blob/main/6_Tips_Save_Me_Time_%26_MemoryWhen_Training_Machine_Learning%C2%A0Models.ipynb\" target=\"_parent\"><img src=\"https://colab.research.google.com/assets/colab-badge.svg\" alt=\"Open In Colab\"/></a>"
      ]
    },
    {
      "cell_type": "markdown",
      "source": [
        "# 6 Tips Save Me Time & MemoryWhen Training Machine Learning Models\n"
      ],
      "metadata": {
        "id": "z5VJlGJV7cry"
      }
    },
    {
      "cell_type": "markdown",
      "source": [
        "Training machine learning models can be time and memory consuming epically if your data is so large. However, usually, you will have to train multiple models or train the model multiple times with different hyperparameters to find the best hyperparameters for your model. Therefore it is important to be able to optimize your workflow so as to save as much computational time and memory consumption as possible to be able to find the best models and train them efficiently. \n",
        "\n",
        "In this article, I will share with you six practical tips that I personally use to decrease computational time and meomery consumption when I work on a data science project or train a machine learning model."
      ],
      "metadata": {
        "id": "zqVslcsf7iWo"
      }
    },
    {
      "cell_type": "markdown",
      "source": [
        "We will use the MNSIT dataset throughout this article and will apply all the tips on it and see how the results and the time and memory consumption were affected. Let's load the data and reshape it to be able to use with our models:"
      ],
      "metadata": {
        "id": "Ggpzxvyh7sd1"
      }
    },
    {
      "cell_type": "code",
      "execution_count": 1,
      "metadata": {
        "id": "iaPoTz9nhpmT"
      },
      "outputs": [],
      "source": [
        "# load all the packages and the libraries that will be used\n",
        "from sklearn.decomposition import PCA\n",
        "from matplotlib import pyplot\n",
        "from keras.datasets import mnist\n",
        "import matplotlib.pyplot as plt\n",
        "import numpy as np\n",
        "import time"
      ]
    },
    {
      "cell_type": "code",
      "source": [
        "# Loading and Plotting random image of the mnsit dataset\n",
        "(train_X, train_y), (test_X, test_y) = mnist.load_data()\n",
        "\n",
        "# plotting the first image of the MNSIt dataset\n",
        "pyplot.imshow(train_X[0], cmap=pyplot.get_cmap('gray'))\n",
        "pyplot.show()"
      ],
      "metadata": {
        "colab": {
          "base_uri": "https://localhost:8080/",
          "height": 300
        },
        "id": "Ngx0rqxZmM6t",
        "outputId": "8b296b24-5a49-46e8-b82e-53561a262855"
      },
      "execution_count": 2,
      "outputs": [
        {
          "output_type": "stream",
          "name": "stdout",
          "text": [
            "Downloading data from https://storage.googleapis.com/tensorflow/tf-keras-datasets/mnist.npz\n",
            "11490434/11490434 [==============================] - 0s 0us/step\n"
          ]
        },
        {
          "output_type": "display_data",
          "data": {
            "text/plain": [
              "<Figure size 432x288 with 1 Axes>"
            ],
            "image/png": "[encoded data removed]"
          },
          "metadata": {
            "needs_background": "light"
          }
        }
      ]
    },
    {
      "cell_type": "markdown",
      "source": [
        "Now, let's print the shape of the data:"
      ],
      "metadata": {
        "id": "PHHVxt_m-Y3q"
      }
    },
    {
      "cell_type": "code",
      "source": [
        "print('The shape of the train data',train_X.shape)\n",
        "\n",
        "print('The shape of the test data',test_X.shape)\n"
      ],
      "metadata": {
        "colab": {
          "base_uri": "https://localhost:8080/"
        },
        "id": "jJA7UaUpmQ5_",
        "outputId": "5b8f29d3-b482-4a84-d0bf-d571af1680fd"
      },
      "execution_count": 3,
      "outputs": [
        {
          "output_type": "stream",
          "name": "stdout",
          "text": [
            "The shape of the train data (60000, 28, 28)\n",
            "The shape of the test data (10000, 28, 28)\n"
          ]
        }
      ]
    },
    {
      "cell_type": "markdown",
      "source": [
        "Finally, let's reshape the data to be able to apply the dimensionality reduction algorithms to it:"
      ],
      "metadata": {
        "id": "KClys5i4-bcX"
      }
    },
    {
      "cell_type": "code",
      "source": [
        "train_X_reshaped = train_X.reshape(train_X.shape[0], 28*28)\n",
        "print('The shape of the reshaped train data', train_X_reshaped.shape)\n",
        "\n",
        "test_X_reshaped = test_X.reshape(test_X.shape[0], 28*28)\n",
        "print('The shape of the reshaped test data', test_X_reshaped.shape)\n"
      ],
      "metadata": {
        "colab": {
          "base_uri": "https://localhost:8080/"
        },
        "id": "p7TFbbGhmUfg",
        "outputId": "145972c9-c749-42f2-f3cc-73137417325b"
      },
      "execution_count": 4,
      "outputs": [
        {
          "output_type": "stream",
          "name": "stdout",
          "text": [
            "The shape of the reshaped train data (60000, 784)\n",
            "The shape of the reshaped test data (10000, 784)\n"
          ]
        }
      ]
    },
    {
      "cell_type": "markdown",
      "source": [
        "# Table of Content:\n",
        "\n",
        "1.   Train on All The CPU Cores\n",
        "2.   Use Randomized PCA\n",
        "3. Use Incremental PCA\n",
        "4. Apply Chain Rule\n",
        "5. Use Linear SVM\n",
        "6. Use Mini-Batch K-Means\n",
        "\n"
      ],
      "metadata": {
        "id": "9iWiSW85-dog"
      }
    },
    {
      "cell_type": "markdown",
      "source": [
        "#1. Train on All The CPU cores"
      ],
      "metadata": {
        "id": "qA7WeuuH-3fO"
      }
    },
    {
      "cell_type": "markdown",
      "source": [
        "Bagging and posting are learning approaches in which we use the same training algorithm for every predictor but train them on different random subsets of the training set. \n",
        "\n",
        "When sampling is performed with replacement, this method is called bagging (short for bootstrap aggregating). When sampling is performed without replacement, it is called pasting.\n",
        "\n",
        "In other words, both bagging and pasting allow training instances to be sampled several times across multiple predictors, but only bagging allows training instances to be sampled several times for the same predictor.\n",
        "\n",
        "One of the main reasons bagging and pasting are famous, besides their good results, is that they can scale very well in an easy way. Since the predictor can be trained in parallel as they are independent, you can train on multiple CPU cores or on multiple servers. The same can also be done in prediction.\n",
        "\n",
        "Scikit learn offers a simple API for bagging and pasting with the BaggingClassifier class. The parameter n_jobs defines the number of cores that can be used in both training and prediction. The code below n_jobs = -1, meaning use all the available cores."
      ],
      "metadata": {
        "id": "6Eb1gAmfiN0t"
      }
    },
    {
      "cell_type": "code",
      "source": [
        "from sklearn.ensemble import BaggingClassifier\n",
        "from sklearn.tree import DecisionTreeClassifier\n",
        "\n",
        "\n",
        "# get the start time\n",
        "st = time.time()\n",
        "\n",
        "bag_clf = BaggingClassifier(\n",
        "    DecisionTreeClassifier(), \n",
        "    n_estimators=500,\n",
        "    max_samples=100, \n",
        "    bootstrap=True)\n",
        "\n",
        "bag_clf.fit(train_X_reshaped, train_y)\n",
        "\n",
        "y_pred = bag_clf.predict(test_X_reshaped)\n",
        "\n",
        "# get the end time\n",
        "et = time.time()\n",
        "\n",
        "# get the execution time\n",
        "elapsed_time = et - st\n",
        "print('Execution time:', elapsed_time, 'seconds')\n"
      ],
      "metadata": {
        "colab": {
          "base_uri": "https://localhost:8080/"
        },
        "id": "b6j420gimVv_",
        "outputId": "bf6dc214-adce-4ac2-93b1-07d0e5b88d16"
      },
      "execution_count": 5,
      "outputs": [
        {
          "output_type": "stream",
          "name": "stdout",
          "text": [
            "Execution time: 135.00484466552734 seconds\n"
          ]
        }
      ]
    },
    {
      "cell_type": "code",
      "source": [
        "# get the start time\n",
        "st = time.time()\n",
        "\n",
        "\n",
        "bag_clf_all_cores = BaggingClassifier(\n",
        "    DecisionTreeClassifier(), \n",
        "    n_estimators=500,\n",
        "    max_samples=100, \n",
        "    bootstrap=True,\n",
        "    n_jobs = -1)\n",
        "\n",
        "bag_clf_all_cores.fit(train_X_reshaped, train_y)\n",
        "\n",
        "y_pred = bag_clf_all_cores.predict(test_X_reshaped)\n",
        "\n",
        "# get the end time\n",
        "et = time.time()\n",
        "\n",
        "# get the execution time\n",
        "elapsed_time = et - st\n",
        "print('Execution time:', elapsed_time, 'seconds')\n"
      ],
      "metadata": {
        "colab": {
          "base_uri": "https://localhost:8080/"
        },
        "id": "babh6AxVmXCF",
        "outputId": "ffa930fe-49df-49d6-c843-71a8956d8d6b"
      },
      "execution_count": 6,
      "outputs": [
        {
          "output_type": "stream",
          "name": "stdout",
          "text": [
            "Execution time: 122.92714071273804 seconds\n"
          ]
        }
      ]
    },
    {
      "cell_type": "markdown",
      "source": [
        "As you can see using all the CPU cores decreased the computational time by at least 4 folds."
      ],
      "metadata": {
        "id": "i2slv0R9iacz"
      }
    },
    {
      "cell_type": "markdown",
      "source": [
        "# 2. Use Randomized PCA"
      ],
      "metadata": {
        "id": "gbmOo2Opmdyp"
      }
    },
    {
      "cell_type": "markdown",
      "source": [
        "If you would like to increase the speed of PCA you can set the svd_solver hyperparameter to \"randomized\" in Scikit-Learn. This will make it use a stochastic algorithm called Randomized PCA that quickly finds an approximation of the first d principal components. \n",
        "\n",
        "Its computational complexity is O(m × d2) + O(d3), instead of O(m × n2) + O(n3) for the full SVD approach, so it is dramatically faster than full SVD when d is much smaller than n:"
      ],
      "metadata": {
        "id": "xTXkk8idin1B"
      }
    },
    {
      "cell_type": "code",
      "source": [
        "# Calculate the execution time for the PCA using full SVD solver\n",
        "\n",
        "# get the start time\n",
        "st = time.time()\n",
        "\n",
        "rnd_pca = PCA(n_components=100, svd_solver=\"full\")\n",
        "X_reduced_rand = rnd_pca.fit_transform(train_X_reshaped)\n",
        "\n",
        "# get the end time\n",
        "et = time.time()\n",
        "\n",
        "# get the execution time\n",
        "elapsed_time = et - st\n",
        "print('Execution time using full SVD', elapsed_time, 'seconds')"
      ],
      "metadata": {
        "colab": {
          "base_uri": "https://localhost:8080/"
        },
        "id": "R0LMuqAHmfKO",
        "outputId": "cdb0e40b-34ef-401d-aa1d-1fcc47c8fa60"
      },
      "execution_count": 7,
      "outputs": [
        {
          "output_type": "stream",
          "name": "stdout",
          "text": [
            "Execution time using full SVD 12.036218404769897 seconds\n"
          ]
        }
      ]
    },
    {
      "cell_type": "code",
      "source": [
        "# Calculate the execution time for the PCA using randomized solver\n",
        "\n",
        "# get the start time\n",
        "st = time.time()\n",
        "\n",
        "rnd_pca = PCA(n_components=100, svd_solver=\"randomized\")\n",
        "X_reduced_rand = rnd_pca.fit_transform(train_X_reshaped)\n",
        "\n",
        "# get the end time\n",
        "et = time.time()\n",
        "\n",
        "# get the execution time\n",
        "elapsed_time = et - st\n",
        "print('Execution time using randomized solver', elapsed_time, 'seconds')"
      ],
      "metadata": {
        "colab": {
          "base_uri": "https://localhost:8080/"
        },
        "id": "LFHtRKsmmpFS",
        "outputId": "ca384b75-2098-45bb-af31-9d6e5cebb531"
      },
      "execution_count": 8,
      "outputs": [
        {
          "output_type": "stream",
          "name": "stdout",
          "text": [
            "Execution time using randomized solver 6.658643960952759 seconds\n"
          ]
        }
      ]
    },
    {
      "cell_type": "markdown",
      "source": [
        "By default, svd_solver is actually set to \"auto\": Scikit-Learn automatically uses the randomized PCA algorithm if m or n is greater than 500 and d is less than 80% of m or n, or else it uses the full SVD approach. If you want to force Scikit-Learn to use full SVD, you can set the svd_solver hyperparameter to \"full\"."
      ],
      "metadata": {
        "id": "BaxBs9AMivv0"
      }
    },
    {
      "cell_type": "markdown",
      "source": [
        "#3. Incremental PCA"
      ],
      "metadata": {
        "id": "T0n7pAefo2VW"
      }
    },
    {
      "cell_type": "markdown",
      "source": [
        "If you would like to apply PCA to a large dataset you will probably face a memory error since the implementations of PCA requires the whole training set to fit in memory in order for the algorithm to run.\n",
        "\n",
        "Fortunately, 𝗜𝗻𝗰𝗿𝗲𝗺𝗲𝗻𝘁𝗮𝗹 𝗣𝗖𝗔 (𝗜𝗣𝗖𝗔) algorithms have been developed to solve this problem: you can split the training set into mini-batches and feed an IPCA algorithm one mini-batch at a time. This is useful for large training sets, and also to apply PCA online.\n",
        "\n",
        "The following code splits the training dataset into 100 mini-batches (using NumPy's array_split() function) and feeds them to Scikit-Learn's IncrementalPCA class to reduce the dimensionality of the training dataset down to 100 dimensions. Note that you must call the partial_fit() method with each mini-batch rather than the fit() method with the whole training set:"
      ],
      "metadata": {
        "id": "WJXkzgdWizTW"
      }
    },
    {
      "cell_type": "code",
      "source": [
        "from sklearn.decomposition import IncrementalPCA\n",
        "n_batches = 100\n",
        "\n",
        "# Calculate the execution time for the PCA using randomized solver\n",
        "\n",
        "# get the start time\n",
        "st = time.time()\n",
        "\n",
        "\n",
        "inc_pca = IncrementalPCA(n_components=100)\n",
        "for X_batch in np.array_split(train_X_reshaped, n_batches):\n",
        "    inc_pca.partial_fit(X_batch)\n",
        "    \n",
        "X_reduced = inc_pca.transform(train_X_reshaped)\n",
        "\n",
        "#get the end time\n",
        "et = time.time()\n",
        "\n",
        "# get the execution time\n",
        "elapsed_time = et - st\n",
        "print('Execution time using incremental PCA', elapsed_time, 'seconds')"
      ],
      "metadata": {
        "colab": {
          "base_uri": "https://localhost:8080/"
        },
        "id": "O2qdjE8po6xq",
        "outputId": "b0e5a1e0-5bee-472b-a40a-fd37e48aa4e9"
      },
      "execution_count": 9,
      "outputs": [
        {
          "output_type": "stream",
          "name": "stdout",
          "text": [
            "Execution time using incremental PCA 34.422614097595215 seconds\n"
          ]
        }
      ]
    },
    {
      "cell_type": "markdown",
      "source": [
        "This will be very useful if your data is very large that it will not fit in the memory. However it will increase the computational time compared to the traditional PCA, so you should use it only if your data is so large that it does not fit in the meomery."
      ],
      "metadata": {
        "id": "AhvKjFeoi6QI"
      }
    },
    {
      "cell_type": "markdown",
      "source": [
        "#4. Use Chain Rule"
      ],
      "metadata": {
        "id": "DEtdkoxsWIam"
      }
    },
    {
      "cell_type": "markdown",
      "source": [
        "If you would like to use a very slow dimension reduction method especially if your data is nonlinear such as Locally Linear Embedding (LLE) or t-distributed stochastic neighbor embedding (t-DSNE) you can chain two dimension reduction algorithms to decrease the computational time of the LLE and still have almost the same result. \n",
        "\n",
        "First, you apply a faster dimensionality reduction algorithm on the whole data to reduce the dimension into a lower one and then apply a slower one to reduce the rest with higher quality. This always works as both dimension reductions will have a similar effect on the higher dimensions. \n",
        "\n",
        "You can first apply PCA to your data to quickly get rid of a large number of useless dimensions and then use LLE. This will yield a similar performance as just using LLE but in a fraction of its time.\n",
        "Let's first apply LLE to the dataset to reduce a subset of the MNSIT dataset and reduce the data to 2 components:"
      ],
      "metadata": {
        "id": "tmKH1A4gi_1A"
      }
    },
    {
      "cell_type": "code",
      "source": [
        "from sklearn.manifold import LocallyLinearEmbedding\n",
        "\n",
        "# Calculate the execution time for the PCA using randomized solver\n",
        "# get the start time\n",
        "st = time.time()\n",
        "\n",
        "lle = LocallyLinearEmbedding(n_components=2, n_neighbors=10)\n",
        "X_reduced_LLE = lle.fit_transform(train_X_reshaped[0:5000,:])\n",
        "\n",
        "plt.scatter(X_reduced_LLE[:, 0],X_reduced_LLE[:,1], c=train_y[0:5000], cmap=plt.cm.rainbow )\n",
        "plt.xlabel(\"X\") \n",
        "plt.ylabel(\"y\")\n",
        "plt.title(\" Reduced MNSIT dataset with LLE \")\n",
        "plt.show()\n",
        "\n",
        "#get the end time\n",
        "et = time.time()\n",
        "\n",
        "# get the execution time\n",
        "elapsed_time = et - st\n",
        "print('Execution time using incremental PCA', elapsed_time, 'seconds')"
      ],
      "metadata": {
        "colab": {
          "base_uri": "https://localhost:8080/",
          "height": 312
        },
        "id": "vq7bjhD9WJNA",
        "outputId": "b3a53d17-ced3-4904-a00f-cde0ea0078cf"
      },
      "execution_count": 25,
      "outputs": [
        {
          "output_type": "display_data",
          "data": {
            "text/plain": [
              "<Figure size 432x288 with 1 Axes>"
            ],
            "image/png": "[encoded data removed]"
          },
          "metadata": {
            "needs_background": "light"
          }
        },
        {
          "output_type": "stream",
          "name": "stdout",
          "text": [
            "Execution time using incremental PCA 13.673588514328003 seconds\n"
          ]
        }
      ]
    },
    {
      "cell_type": "markdown",
      "source": [
        "We can see that the time needed to reduce the data to 2 dimensions using LLE is 15 seconds. Now let's apply the chain rule in which you will first apply PCA to the MNSIT data and reduce it to 100 dimensions then apply LLE to this reduced data to reduce the dimension to 2 components only."
      ],
      "metadata": {
        "id": "F7uu2nKgjFWV"
      }
    },
    {
      "cell_type": "code",
      "source": [
        "from sklearn.manifold import LocallyLinearEmbedding\n",
        "\n",
        "# Calculate the execution time for the PCA using randomized solver\n",
        "# get the start time\n",
        "st = time.time()\n",
        "\n",
        "rnd_pca = PCA(n_components=100, svd_solver=\"randomized\")\n",
        "X_reduced_rand = rnd_pca.fit_transform(train_X_reshaped[0:5000,:])\n",
        "\n",
        "lle = LocallyLinearEmbedding(n_components=2, n_neighbors=10)\n",
        "X_reduced_LLE = lle.fit_transform(X_reduced_rand)\n",
        "\n",
        "plt.scatter(X_reduced_LLE[:, 0],X_reduced_LLE[:,1], c=train_y[0:5000], cmap=plt.cm.rainbow )\n",
        "plt.xlabel(\"X\") \n",
        "plt.ylabel(\"y\")\n",
        "plt.title(\" Reduced MNSIT dataset with PCA & LLE \")\n",
        "plt.show()\n",
        "\n",
        "#get the end time\n",
        "et = time.time()\n",
        "\n",
        "# get the execution time\n",
        "elapsed_time = et - st\n",
        "print('Execution time using incremental PCA', elapsed_time, 'seconds')"
      ],
      "metadata": {
        "colab": {
          "base_uri": "https://localhost:8080/",
          "height": 312
        },
        "id": "-UhcKH7mX5fs",
        "outputId": "d9aeeeae-560c-4f61-e33a-216cb5690b00"
      },
      "execution_count": 26,
      "outputs": [
        {
          "output_type": "display_data",
          "data": {
            "text/plain": [
              "<Figure size 432x288 with 1 Axes>"
            ],
            "image/png": "[encoded data removed]"
          },
          "metadata": {
            "needs_background": "light"
          }
        },
        {
          "output_type": "stream",
          "name": "stdout",
          "text": [
            "Execution time using incremental PCA 20.560760498046875 seconds\n"
          ]
        }
      ]
    },
    {
      "cell_type": "markdown",
      "source": [],
      "metadata": {
        "id": "rfFrCYQOjJBx"
      }
    },
    {
      "cell_type": "markdown",
      "source": [
        "As you can see both approaches resulted in similar  results but the second approach is must faster than the first one. Also, it is important to mention that I only applied these two methods on a small subset of the data and there is a difference of 4 seconds as the data size increases the time difference will increase and will show more of the advantage of applying this trick."
      ],
      "metadata": {
        "id": "xVAKi7rcjKL3"
      }
    },
    {
      "cell_type": "markdown",
      "source": [
        "# 5. Use Linear SVM"
      ],
      "metadata": {
        "id": "BAlV149gvZza"
      }
    },
    {
      "cell_type": "markdown",
      "source": [
        "Since 𝐋𝐢𝐧𝐞𝐚𝐫𝐒𝐕𝐂 class is based on the 𝐥𝐢𝐛𝐥𝐢𝐧𝐞𝐚𝐫 library, which implements an optimized algorithm for linear SVMs. It does not support the kernel trick, but it 𝐬𝐜𝐚𝐥𝐞𝐬 𝐚𝐥𝐦𝐨𝐬𝐭 𝐥𝐢𝐧𝐞𝐚𝐫𝐥𝐲 with the number of training instances and the number of features: its training time complexity is roughly O(m × n).\n",
        "\n",
        "The algorithm takes longer if you require very high precision. This is controlled by the tolerance hyperparameter ϵ (called 𝐭𝐨𝐥 in 𝐒𝐜𝐢𝐤𝐢𝐭-𝐋𝐞𝐚𝐫𝐧). In most classification tasks, the default tolerance is fine. This will be a perfect choice if you have a large dataset but are linearly separable.\n",
        "\n",
        "On the other hand, the 𝐒𝐕𝐂 class is based on the 𝐥𝐢𝐛𝐬𝐯𝐦 library, which implements an algorithm that supports the kernel trick. The training time complexity is usually between O(m2 × n) and O(m3 × n). Unfortunately, this means that it gets very slow when the number of training instances gets large (e.g., hundreds of thousands of instances).\n",
        "\n",
        "This algorithm is perfect for 𝐜𝐨𝐦𝐩𝐥𝐞𝐱 𝐛𝐮𝐭 𝐬𝐦𝐚𝐥𝐥 𝐨𝐫 𝐦𝐞𝐝𝐢𝐮𝐦 𝐭𝐫𝐚𝐢𝐧𝐢𝐧𝐠 𝐬𝐞𝐭𝐬. However, it scales well with the number of features, especially with sparse features (i.e., when each instance has few nonzero features). In this case, the algorithm scales roughly with the average number of nonzero features per instance.\n",
        "Let's try this on the MNSIT dataset and see the difference in computational time. First, we will train the linearSVC model on the MNSIT dataset and calculate the training and inference time:"
      ],
      "metadata": {
        "id": "cvHnIOVejNHf"
      }
    },
    {
      "cell_type": "code",
      "source": [
        "from sklearn.svm import LinearSVC\n",
        "from sklearn.pipeline import Pipeline\n",
        "from sklearn.preprocessing import StandardScaler\n",
        "from sklearn.metrics import accuracy_score\n",
        "\n",
        "\n",
        "# Calculate the execution time for the PCA using randomized solver\n",
        "# get the start time\n",
        "st = time.time()\n",
        "\n",
        "svm_clf = Pipeline([\n",
        "(\"scaler\", StandardScaler()),\n",
        "(\"linear_svc\", LinearSVC(C=1, loss=\"hinge\")),\n",
        "])\n",
        "\n",
        "svm_clf.fit(train_X_reshaped, train_y)\n",
        "\n",
        "y_train_predict = svm_clf.predict(train_X_reshaped)\n",
        "print('Train accuarcy of linear SVC', accuracy_score(train_y, y_train_predict, normalize=True))\n",
        "\n",
        "\n",
        "#get the end time\n",
        "et = time.time()\n",
        "\n",
        "# get the execution time\n",
        "elapsed_time = et - st\n",
        "print('Training time using Linear SVC', elapsed_time, 'seconds')"
      ],
      "metadata": {
        "colab": {
          "base_uri": "https://localhost:8080/"
        },
        "id": "zcGfqyRYvc3b",
        "outputId": "931c8e56-2db3-47a9-c0c7-fc9def7a4098"
      },
      "execution_count": 6,
      "outputs": [
        {
          "output_type": "stream",
          "name": "stderr",
          "text": [
            "/usr/local/lib/python3.7/dist-packages/sklearn/svm/_base.py:1208: ConvergenceWarning: Liblinear failed to converge, increase the number of iterations.\n",
            "  ConvergenceWarning,\n"
          ]
        },
        {
          "output_type": "stream",
          "name": "stdout",
          "text": [
            "Train accuarcy of linear SVC 0.9302166666666667\n",
            "Training time using Linear SVC 565.6794822216034 seconds\n"
          ]
        }
      ]
    },
    {
      "cell_type": "markdown",
      "source": [
        "The training accuracy is 93% and the training computational time is 565 seconds. Let's see the test accuracy and the inference time:"
      ],
      "metadata": {
        "id": "BK8s50jujUia"
      }
    },
    {
      "cell_type": "code",
      "source": [
        "\n",
        "# Calculate the execution time for the PCA using randomized solver\n",
        "# get the start time\n",
        "st = time.time()\n",
        "\n",
        "y_test_predict = svm_clf.predict(test_X_reshaped)\n",
        "print('Test accuarcy of linear SVC', accuracy_score(test_y, y_test_predict, normalize=True))\n",
        "\n",
        "# get the end time\n",
        "et = time.time()\n",
        "\n",
        "# get the execution time\n",
        "elapsed_time = et - st\n",
        "print('Inference time using Linear SVC', elapsed_time, 'seconds')"
      ],
      "metadata": {
        "colab": {
          "base_uri": "https://localhost:8080/"
        },
        "id": "E1AxTHw-8Nbo",
        "outputId": "ff0e86de-ad73-4df5-8c2b-b9272ca0f5ac"
      },
      "execution_count": 7,
      "outputs": [
        {
          "output_type": "stream",
          "name": "stdout",
          "text": [
            "Test accuarcy of linear SVC 0.9172\n",
            "Inference time using Linear SVC 0.07637166976928711 seconds\n"
          ]
        }
      ]
    },
    {
      "cell_type": "markdown",
      "source": [
        "The test accuracy of the LinearSVC classifier is 91% and the inference computation time is 0.07 seconds which is very small.\n",
        " \n",
        "Now let's compare this to the kernel SVC classifier:"
      ],
      "metadata": {
        "id": "ZaHrgQMyjYwc"
      }
    },
    {
      "cell_type": "code",
      "source": [
        "from sklearn.svm import SVC\n",
        "\n",
        "# Calculate the execution time for the PCA using randomized solver\n",
        "# get the start time\n",
        "st = time.time()\n",
        "\n",
        "\n",
        "poly_kernel_svm_clf = Pipeline([\n",
        "    (\"scaler\", StandardScaler()),\n",
        "    (\"svm_clf\", SVC(kernel=\"poly\", degree=3, coef0=1, C=5))\n",
        "    ])\n",
        "poly_kernel_svm_clf.fit(train_X_reshaped, train_y)\n",
        "\n",
        "y_train_predict = poly_kernel_svm_clf.predict(train_X_reshaped)\n",
        "print('Train accuarcy of  SVC', accuracy_score(train_y, y_train_predict, normalize=True))\n",
        "\n",
        "# get the end time\n",
        "et = time.time()\n",
        "\n",
        "# get the execution time\n",
        "elapsed_time = et - st\n",
        "print('Training time using Kerenl SVC', elapsed_time, 'seconds')"
      ],
      "metadata": {
        "colab": {
          "base_uri": "https://localhost:8080/"
        },
        "id": "4bJWuYys7Hlg",
        "outputId": "60f8d128-55d0-40b6-e9bd-f9c687351b2e"
      },
      "execution_count": 8,
      "outputs": [
        {
          "output_type": "stream",
          "name": "stdout",
          "text": [
            "Train accuarcy of  SVC 0.9995833333333334\n",
            "Training time using Kerenl SVC 679.7353920936584 seconds\n"
          ]
        }
      ]
    },
    {
      "cell_type": "markdown",
      "source": [
        "The training accuracy is 99% which is much higher than the linaerSVC, however, the computational time is 679 seconds which is also more than that of the LinearSVC classifier. \n",
        "\n",
        "Finally, let's compare the test accuracy and the inference computational time of the kernel SVC classifier with the LinearSVC:"
      ],
      "metadata": {
        "id": "xvdEWSBSjcpP"
      }
    },
    {
      "cell_type": "code",
      "source": [
        "from sklearn.metrics import accuracy_score\n",
        "\n",
        "# get the start time\n",
        "st = time.time()\n",
        "\n",
        "y_test_predict = poly_kernel_svm_clf.predict(test_X_reshaped)\n",
        "print('Test accuarcy of  SVC', accuracy_score(test_y, y_test_predict, normalize=True))\n",
        "\n",
        "# get the end time\n",
        "et = time.time()\n",
        "\n",
        "# get the execution time\n",
        "elapsed_time = et - st\n",
        "print('Inference time using Kerenl SVC', elapsed_time, 'seconds')"
      ],
      "metadata": {
        "colab": {
          "base_uri": "https://localhost:8080/"
        },
        "id": "o0G6SXBDDd6y",
        "outputId": "19faec3f-ce2e-40b2-95d9-0fd9a154feee"
      },
      "execution_count": 9,
      "outputs": [
        {
          "output_type": "stream",
          "name": "stdout",
          "text": [
            "Test accuarcy of  SVC 0.9769\n",
            "Inference time using Kerenl SVC 78.81518244743347 seconds\n"
          ]
        }
      ]
    },
    {
      "cell_type": "markdown",
      "source": [
        "The test accuracy is 97% which is again much higher than the test accuracy of the LinearSVC classifier. The computational time during inference is 78.85 seconds which is 100 times more compared to the LinearSVC inference computational time. \n",
        "\n",
        "In conclusion, the performance of the kernel SVC classifier is higher than Linear SVC but the computational time especially the inference computational time is much higher than the LinearSVC."
      ],
      "metadata": {
        "id": "X1LzO9MQjfse"
      }
    },
    {
      "cell_type": "markdown",
      "source": [
        "#6. Use Mini-Batch K-Means"
      ],
      "metadata": {
        "id": "M1H3r22EuMgv"
      }
    },
    {
      "cell_type": "markdown",
      "source": [
        "If you would like to apply the K_Means algorithm to a large dataset you can use MiniBatchKmeans class. Instead of using the full dataset at each iteration, the algorithm is capable of using mini-batches, moving the centroids just slightly at each iteration. This speeds up the algorithm typically by a factor of 3 or 4 and makes it possible to cluster huge datasets that do not fit in memory.\n",
        "\n",
        "Scikit-Learn implements this algorithm in the MiniBatchKMeans class. You can just use this class like the KMeans class. Let's apply this to the MNSIT dataset and cluster it into nine clusters and calculate the computational time and compare it to the K-Means algorithm:"
      ],
      "metadata": {
        "id": "KXNxUJlijkj_"
      }
    },
    {
      "cell_type": "code",
      "source": [
        "from sklearn.cluster import MiniBatchKMeans\n",
        "\n",
        "# get the start time\n",
        "st = time.time()\n",
        "\n",
        "minibatch_kmeans = MiniBatchKMeans(n_clusters=9)\n",
        "minibatch_kmeans.fit(train_X_reshaped)\n",
        "\n",
        "# get the end time\n",
        "et = time.time()\n",
        "\n",
        "\n",
        "# get the execution time\n",
        "elapsed_time = et - st\n",
        "print('Computaional time using MiniBatch K-Means', elapsed_time, 'seconds')"
      ],
      "metadata": {
        "colab": {
          "base_uri": "https://localhost:8080/"
        },
        "id": "Io-LnnfPISKN",
        "outputId": "b5270e1f-4b6d-4cf9-e349-013d7dec8811"
      },
      "execution_count": 23,
      "outputs": [
        {
          "output_type": "stream",
          "name": "stdout",
          "text": [
            "Computaional time using MiniBatch K-Means 1.9091169834136963 seconds\n"
          ]
        }
      ]
    },
    {
      "cell_type": "markdown",
      "source": [
        "The computational time for clustering the data using MiniBatchKMeans is 1.9 seconds. Let's compare this to the K-Means clustering algorithm:"
      ],
      "metadata": {
        "id": "LW7PkiQKjoZn"
      }
    },
    {
      "cell_type": "code",
      "source": [
        "from sklearn.cluster import KMeans\n",
        "\n",
        "# get the start time\n",
        "st = time.time()\n",
        "\n",
        "kmeans = KMeans(n_clusters=9)\n",
        "kmeans.fit(train_X_reshaped)\n",
        "\n",
        "# get the end time\n",
        "et = time.time()\n",
        "\n",
        "\n",
        "# get the execution time\n",
        "elapsed_time = et - st\n",
        "print('Computaional time using K-Means', elapsed_time, 'seconds')"
      ],
      "metadata": {
        "colab": {
          "base_uri": "https://localhost:8080/"
        },
        "id": "U-VYxe23wThW",
        "outputId": "029615e7-6b10-413a-b64a-f9cd421fe453"
      },
      "execution_count": 24,
      "outputs": [
        {
          "output_type": "stream",
          "name": "stdout",
          "text": [
            "Computaional time using K-Means 65.53211736679077 seconds\n"
          ]
        }
      ]
    },
    {
      "cell_type": "markdown",
      "source": [
        "The computational time for clustering the data using K-Means is 65.53 seconds which is 50 times more than the computational time of the MiniBatchKMeans clustering algorithm."
      ],
      "metadata": {
        "id": "5jP6lCjXjsoE"
      }
    },
    {
      "cell_type": "code",
      "source": [],
      "metadata": {
        "id": "q5RcUdnWjtli"
      },
      "execution_count": null,
      "outputs": []
    }
  ]
}